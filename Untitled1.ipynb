{
 "cells": [
  {
   "cell_type": "code",
   "execution_count": 5,
   "id": "485fb681",
   "metadata": {},
   "outputs": [],
   "source": [
    "import csv\n",
    "\n",
    "def convert_csv_to_rasa(csv_file, nlu_file, stories_file):\n",
    "    intents = set()\n",
    "    training_examples = []\n",
    "    responses = []\n",
    "    actions = []\n",
    "\n",
    "    with open(csv_file, 'r') as file:\n",
    "        reader = csv.DictReader(file)\n",
    "        for row in reader:\n",
    "            intent = row['description']  # Use 'description' column as the intent\n",
    "            intents.add(intent)\n",
    "\n",
    "            training_examples.append(row['name'])  # Use 'name' column as the training example\n",
    "            responses.append(row['symptoms/0'])  # Use 'symptoms/0' column as the response\n",
    "            actions.append(row['treatments/0'])  # Use 'treatments/0' column as the action\n",
    "\n",
    "    # Generate NLU data\n",
    "    nlu_data = ''\n",
    "    for intent, example in zip(intents, training_examples):\n",
    "        nlu_data += f'## {intent}\\n'\n",
    "        nlu_data += f'- {example}\\n\\n'\n",
    "\n",
    "    # Generate stories data\n",
    "    stories_data = ''\n",
    "    for example, response, action in zip(training_examples, responses, actions):\n",
    "        stories_data += f'* {intent}\\n'\n",
    "        stories_data += f'  - {response}\\n'\n",
    "        stories_data += f'  - {action}\\n\\n'\n",
    "\n",
    "    # Write NLU data to file\n",
    "    with open(nlu_file, 'w') as file:\n",
    "        file.write(nlu_data)\n",
    "\n",
    "    # Write stories data to file\n",
    "    with open(stories_file, 'w') as file:\n",
    "        file.write(stories_data)\n",
    "\n",
    "# Convert the CSV file to Rasa format\n",
    "csv_file = 'result.csv'\n",
    "nlu_file = 'nlu.md'\n",
    "stories_file = 'stories.md'\n",
    "convert_csv_to_rasa(csv_file, nlu_file, stories_file)\n"
   ]
  },
  {
   "cell_type": "code",
   "execution_count": null,
   "id": "b61fecaa",
   "metadata": {},
   "outputs": [],
   "source": []
  }
 ],
 "metadata": {
  "kernelspec": {
   "display_name": "Python 3 (ipykernel)",
   "language": "python",
   "name": "python3"
  },
  "language_info": {
   "codemirror_mode": {
    "name": "ipython",
    "version": 3
   },
   "file_extension": ".py",
   "mimetype": "text/x-python",
   "name": "python",
   "nbconvert_exporter": "python",
   "pygments_lexer": "ipython3",
   "version": "3.10.9"
  }
 },
 "nbformat": 4,
 "nbformat_minor": 5
}
